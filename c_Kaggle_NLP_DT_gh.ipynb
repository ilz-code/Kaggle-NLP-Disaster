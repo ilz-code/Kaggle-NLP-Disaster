{
 "cells": [
  {
   "cell_type": "code",
   "execution_count": 26,
   "id": "f9faf3ec-feba-4e25-a12e-7cfda76b17d3",
   "metadata": {},
   "outputs": [],
   "source": [
    "import pandas as pd\n",
    "import numpy as np\n",
    "import matplotlib.pyplot as plt\n",
    "from sklearn import feature_extraction, linear_model, model_selection, preprocessing\n",
    "from sklearn.model_selection import train_test_split\n",
    "from sklearn.metrics import f1_score\n",
    "from tensorflow.keras.preprocessing.text import Tokenizer\n",
    "from tensorflow.keras.preprocessing.sequence import pad_sequences\n",
    "from tensorflow.keras.models import Sequential\n",
    "from tensorflow.keras.layers import Embedding, LSTM, Dense, Flatten, Dropout\n",
    "from keras.optimizers import Adam\n",
    "from tensorflow.keras.callbacks import EarlyStopping\n",
    "import joblib"
   ]
  },
  {
   "cell_type": "code",
   "execution_count": 11,
   "id": "69da8f66-aa37-44e2-97d2-49e11e5a2e11",
   "metadata": {},
   "outputs": [
    {
     "name": "stdout",
     "output_type": "stream",
     "text": [
      "df_train.shape = (7613, 5)\n",
      "df_test.shape = (3263, 4)\n",
      "Index(['id', 'keyword', 'location', 'text', 'target'], dtype='object')\n",
      "Count of ones: 3271\n",
      "Count of zeros: 4342\n",
      "<class 'pandas.core.frame.DataFrame'>\n",
      "RangeIndex: 7613 entries, 0 to 7612\n",
      "Data columns (total 5 columns):\n",
      " #   Column    Non-Null Count  Dtype \n",
      "---  ------    --------------  ----- \n",
      " 0   id        7613 non-null   int64 \n",
      " 1   keyword   7552 non-null   object\n",
      " 2   location  5080 non-null   object\n",
      " 3   text      7613 non-null   object\n",
      " 4   target    7613 non-null   int64 \n",
      "dtypes: int64(2), object(3)\n",
      "memory usage: 297.5+ KB\n",
      "False    7613\n",
      "Name: count, dtype: int64\n",
      "False    3263\n",
      "Name: count, dtype: int64\n"
     ]
    }
   ],
   "source": [
    "df_train = pd.read_csv('nlp-getting-started/train.csv')\n",
    "df_test = pd. read_csv('nlp-getting-started/test.csv')\n",
    "sample_submission = pd.read_csv('nlp-getting-started/sample_submission.csv')\n",
    "print(f'df_train.shape = {df_train.shape}')\n",
    "print(f'df_test.shape = {df_test.shape}')\n",
    "print(df_train.columns)\n",
    "count_ones = (df_train['target'] == 1).sum()\n",
    "count_zeros = (df_train['target'] == 0).sum()\n",
    "print(\"Count of ones:\", count_ones)\n",
    "print(\"Count of zeros:\", count_zeros)\n",
    "df_train.info()\n",
    "print(df_train.duplicated().value_counts())\n",
    "print(df_test.duplicated().value_counts())"
   ]
  },
  {
   "cell_type": "code",
   "execution_count": 18,
   "id": "e4a65843-cfb5-4d62-8cfd-c878081325c1",
   "metadata": {},
   "outputs": [],
   "source": [
    "train_data, test_data = train_test_split(df_train, test_size = 0.2, random_state = 0)"
   ]
  },
  {
   "cell_type": "code",
   "execution_count": 19,
   "id": "7975cd01-447a-4b33-ac10-90bfe1a20e35",
   "metadata": {},
   "outputs": [],
   "source": [
    "max_words = 10000\n",
    "tokenizer = Tokenizer(num_words = max_words,oov_token = '<OOV>')\n",
    "tokenizer.fit_on_texts(df_train[\"text\"])\n",
    "max_len = 200\n",
    "train_sequences = tokenizer.texts_to_sequences(train_data[\"text\"])\n",
    "train_padded = pad_sequences(train_sequences, maxlen = max_len, padding = \"post\", truncating = \"post\")\n",
    "test_sequences = tokenizer.texts_to_sequences(test_data[\"text\"])\n",
    "test_padded = pad_sequences(test_sequences, maxlen = max_len, padding = \"post\", truncating = \"post\")\n"
   ]
  },
  {
   "cell_type": "code",
   "execution_count": 20,
   "id": "6dadde06-909b-4a3d-8bd2-fdac3fb94b43",
   "metadata": {},
   "outputs": [],
   "source": [
    "early_stopping = EarlyStopping(monitor='val_accuracy', patience=10, mode='max', restore_best_weights=True)\n",
    "model = Sequential()\n",
    "model.add(Embedding(input_dim=max_words, output_dim=128))\n",
    "model.add(LSTM(64, return_sequences=True))\n",
    "model.add(LSTM(64, return_sequences=True))\n",
    "model.add(Dropout(0.5))\n",
    "model.add(Flatten())  # Flatten layer to 2D\n",
    "model.add(Dense(64, activation = 'relu'))\n",
    "model.add(Dropout(0.5))\n",
    "model.add(Dense(32, activation = 'relu'))\n",
    "model.add(Dense(1, activation='sigmoid'))"
   ]
  },
  {
   "cell_type": "code",
   "execution_count": 21,
   "id": "4ccc431d-7846-4b78-bda6-94f6fc6f2c15",
   "metadata": {},
   "outputs": [],
   "source": [
    "custom_lr = 0.00003\n",
    "custom_optimizer = Adam(learning_rate=custom_lr)\n",
    "model.compile(optimizer=custom_optimizer, loss='binary_crossentropy', metrics=['accuracy'])"
   ]
  },
  {
   "cell_type": "code",
   "execution_count": 23,
   "id": "091ed311-1f3b-4b4e-b5af-c2201b8a307a",
   "metadata": {},
   "outputs": [
    {
     "name": "stdout",
     "output_type": "stream",
     "text": [
      "Epoch 1/100\n",
      "\u001b[1m24/24\u001b[0m \u001b[32m━━━━━━━━━━━━━━━━━━━━\u001b[0m\u001b[37m\u001b[0m \u001b[1m36s\u001b[0m 1s/step - accuracy: 0.5345 - loss: 0.6908 - val_accuracy: 0.5817 - val_loss: 0.6800\n",
      "Epoch 2/100\n",
      "\u001b[1m24/24\u001b[0m \u001b[32m━━━━━━━━━━━━━━━━━━━━\u001b[0m\u001b[37m\u001b[0m \u001b[1m39s\u001b[0m 1s/step - accuracy: 0.5695 - loss: 0.6828 - val_accuracy: 0.5817 - val_loss: 0.6788\n",
      "Epoch 3/100\n",
      "\u001b[1m24/24\u001b[0m \u001b[32m━━━━━━━━━━━━━━━━━━━━\u001b[0m\u001b[37m\u001b[0m \u001b[1m43s\u001b[0m 1s/step - accuracy: 0.5602 - loss: 0.6849 - val_accuracy: 0.5817 - val_loss: 0.6777\n",
      "Epoch 4/100\n",
      "\u001b[1m24/24\u001b[0m \u001b[32m━━━━━━━━━━━━━━━━━━━━\u001b[0m\u001b[37m\u001b[0m \u001b[1m40s\u001b[0m 1s/step - accuracy: 0.5676 - loss: 0.6814 - val_accuracy: 0.5817 - val_loss: 0.6750\n",
      "Epoch 5/100\n",
      "\u001b[1m24/24\u001b[0m \u001b[32m━━━━━━━━━━━━━━━━━━━━\u001b[0m\u001b[37m\u001b[0m \u001b[1m23s\u001b[0m 940ms/step - accuracy: 0.5671 - loss: 0.6789 - val_accuracy: 0.5817 - val_loss: 0.6692\n",
      "Epoch 6/100\n",
      "\u001b[1m24/24\u001b[0m \u001b[32m━━━━━━━━━━━━━━━━━━━━\u001b[0m\u001b[37m\u001b[0m \u001b[1m45s\u001b[0m 1s/step - accuracy: 0.5578 - loss: 0.6758 - val_accuracy: 0.5817 - val_loss: 0.6578\n",
      "Epoch 7/100\n",
      "\u001b[1m24/24\u001b[0m \u001b[32m━━━━━━━━━━━━━━━━━━━━\u001b[0m\u001b[37m\u001b[0m \u001b[1m26s\u001b[0m 1s/step - accuracy: 0.5895 - loss: 0.6617 - val_accuracy: 0.6001 - val_loss: 0.6369\n",
      "Epoch 8/100\n",
      "\u001b[1m24/24\u001b[0m \u001b[32m━━━━━━━━━━━━━━━━━━━━\u001b[0m\u001b[37m\u001b[0m \u001b[1m43s\u001b[0m 1s/step - accuracy: 0.6443 - loss: 0.6354 - val_accuracy: 0.7137 - val_loss: 0.5983\n",
      "Epoch 9/100\n",
      "\u001b[1m24/24\u001b[0m \u001b[32m━━━━━━━━━━━━━━━━━━━━\u001b[0m\u001b[37m\u001b[0m \u001b[1m44s\u001b[0m 1s/step - accuracy: 0.7346 - loss: 0.5973 - val_accuracy: 0.7531 - val_loss: 0.5534\n",
      "Epoch 10/100\n",
      "\u001b[1m24/24\u001b[0m \u001b[32m━━━━━━━━━━━━━━━━━━━━\u001b[0m\u001b[37m\u001b[0m \u001b[1m39s\u001b[0m 1s/step - accuracy: 0.7529 - loss: 0.5466 - val_accuracy: 0.7715 - val_loss: 0.5127\n",
      "Epoch 11/100\n",
      "\u001b[1m24/24\u001b[0m \u001b[32m━━━━━━━━━━━━━━━━━━━━\u001b[0m\u001b[37m\u001b[0m \u001b[1m42s\u001b[0m 1s/step - accuracy: 0.7772 - loss: 0.4985 - val_accuracy: 0.7781 - val_loss: 0.4856\n",
      "Epoch 12/100\n",
      "\u001b[1m24/24\u001b[0m \u001b[32m━━━━━━━━━━━━━━━━━━━━\u001b[0m\u001b[37m\u001b[0m \u001b[1m41s\u001b[0m 1s/step - accuracy: 0.8145 - loss: 0.4462 - val_accuracy: 0.7919 - val_loss: 0.4836\n",
      "Epoch 13/100\n",
      "\u001b[1m24/24\u001b[0m \u001b[32m━━━━━━━━━━━━━━━━━━━━\u001b[0m\u001b[37m\u001b[0m \u001b[1m42s\u001b[0m 1s/step - accuracy: 0.8304 - loss: 0.4107 - val_accuracy: 0.7873 - val_loss: 0.4626\n",
      "Epoch 14/100\n",
      "\u001b[1m24/24\u001b[0m \u001b[32m━━━━━━━━━━━━━━━━━━━━\u001b[0m\u001b[37m\u001b[0m \u001b[1m42s\u001b[0m 1s/step - accuracy: 0.8613 - loss: 0.3644 - val_accuracy: 0.7925 - val_loss: 0.4686\n",
      "Epoch 15/100\n",
      "\u001b[1m24/24\u001b[0m \u001b[32m━━━━━━━━━━━━━━━━━━━━\u001b[0m\u001b[37m\u001b[0m \u001b[1m42s\u001b[0m 1s/step - accuracy: 0.8603 - loss: 0.3400 - val_accuracy: 0.7978 - val_loss: 0.4686\n",
      "Epoch 16/100\n",
      "\u001b[1m24/24\u001b[0m \u001b[32m━━━━━━━━━━━━━━━━━━━━\u001b[0m\u001b[37m\u001b[0m \u001b[1m44s\u001b[0m 2s/step - accuracy: 0.8747 - loss: 0.3263 - val_accuracy: 0.7997 - val_loss: 0.4778\n",
      "Epoch 17/100\n",
      "\u001b[1m24/24\u001b[0m \u001b[32m━━━━━━━━━━━━━━━━━━━━\u001b[0m\u001b[37m\u001b[0m \u001b[1m40s\u001b[0m 1s/step - accuracy: 0.8835 - loss: 0.2994 - val_accuracy: 0.8043 - val_loss: 0.4943\n",
      "Epoch 18/100\n",
      "\u001b[1m24/24\u001b[0m \u001b[32m━━━━━━━━━━━━━━━━━━━━\u001b[0m\u001b[37m\u001b[0m \u001b[1m37s\u001b[0m 1s/step - accuracy: 0.8965 - loss: 0.2856 - val_accuracy: 0.7997 - val_loss: 0.4819\n",
      "Epoch 19/100\n",
      "\u001b[1m24/24\u001b[0m \u001b[32m━━━━━━━━━━━━━━━━━━━━\u001b[0m\u001b[37m\u001b[0m \u001b[1m41s\u001b[0m 1s/step - accuracy: 0.9013 - loss: 0.2654 - val_accuracy: 0.8096 - val_loss: 0.5302\n",
      "Epoch 20/100\n",
      "\u001b[1m24/24\u001b[0m \u001b[32m━━━━━━━━━━━━━━━━━━━━\u001b[0m\u001b[37m\u001b[0m \u001b[1m45s\u001b[0m 1s/step - accuracy: 0.9126 - loss: 0.2517 - val_accuracy: 0.7991 - val_loss: 0.5066\n",
      "Epoch 21/100\n",
      "\u001b[1m24/24\u001b[0m \u001b[32m━━━━━━━━━━━━━━━━━━━━\u001b[0m\u001b[37m\u001b[0m \u001b[1m41s\u001b[0m 1s/step - accuracy: 0.9157 - loss: 0.2429 - val_accuracy: 0.8109 - val_loss: 0.5496\n",
      "Epoch 22/100\n",
      "\u001b[1m24/24\u001b[0m \u001b[32m━━━━━━━━━━━━━━━━━━━━\u001b[0m\u001b[37m\u001b[0m \u001b[1m33s\u001b[0m 1s/step - accuracy: 0.9193 - loss: 0.2276 - val_accuracy: 0.7978 - val_loss: 0.5228\n",
      "Epoch 23/100\n",
      "\u001b[1m24/24\u001b[0m \u001b[32m━━━━━━━━━━━━━━━━━━━━\u001b[0m\u001b[37m\u001b[0m \u001b[1m47s\u001b[0m 2s/step - accuracy: 0.9287 - loss: 0.2061 - val_accuracy: 0.7997 - val_loss: 0.5352\n",
      "Epoch 24/100\n",
      "\u001b[1m24/24\u001b[0m \u001b[32m━━━━━━━━━━━━━━━━━━━━\u001b[0m\u001b[37m\u001b[0m \u001b[1m44s\u001b[0m 2s/step - accuracy: 0.9352 - loss: 0.1948 - val_accuracy: 0.7984 - val_loss: 0.5820\n",
      "Epoch 25/100\n",
      "\u001b[1m24/24\u001b[0m \u001b[32m━━━━━━━━━━━━━━━━━━━━\u001b[0m\u001b[37m\u001b[0m \u001b[1m84s\u001b[0m 2s/step - accuracy: 0.9352 - loss: 0.1945 - val_accuracy: 0.8017 - val_loss: 0.5560\n",
      "Epoch 26/100\n",
      "\u001b[1m24/24\u001b[0m \u001b[32m━━━━━━━━━━━━━━━━━━━━\u001b[0m\u001b[37m\u001b[0m \u001b[1m84s\u001b[0m 2s/step - accuracy: 0.9463 - loss: 0.1794 - val_accuracy: 0.8011 - val_loss: 0.5903\n",
      "Epoch 27/100\n",
      "\u001b[1m24/24\u001b[0m \u001b[32m━━━━━━━━━━━━━━━━━━━━\u001b[0m\u001b[37m\u001b[0m \u001b[1m82s\u001b[0m 2s/step - accuracy: 0.9464 - loss: 0.1683 - val_accuracy: 0.7997 - val_loss: 0.6194\n",
      "Epoch 28/100\n",
      "\u001b[1m24/24\u001b[0m \u001b[32m━━━━━━━━━━━━━━━━━━━━\u001b[0m\u001b[37m\u001b[0m \u001b[1m77s\u001b[0m 2s/step - accuracy: 0.9550 - loss: 0.1553 - val_accuracy: 0.7984 - val_loss: 0.6711\n",
      "Epoch 29/100\n",
      "\u001b[1m24/24\u001b[0m \u001b[32m━━━━━━━━━━━━━━━━━━━━\u001b[0m\u001b[37m\u001b[0m \u001b[1m26s\u001b[0m 1s/step - accuracy: 0.9462 - loss: 0.1556 - val_accuracy: 0.7991 - val_loss: 0.7112\n",
      "Epoch 30/100\n",
      "\u001b[1m24/24\u001b[0m \u001b[32m━━━━━━━━━━━━━━━━━━━━\u001b[0m\u001b[37m\u001b[0m \u001b[1m27s\u001b[0m 1s/step - accuracy: 0.9540 - loss: 0.1507 - val_accuracy: 0.7971 - val_loss: 0.6599\n",
      "Epoch 31/100\n",
      "\u001b[1m24/24\u001b[0m \u001b[32m━━━━━━━━━━━━━━━━━━━━\u001b[0m\u001b[37m\u001b[0m \u001b[1m29s\u001b[0m 1s/step - accuracy: 0.9573 - loss: 0.1448 - val_accuracy: 0.7945 - val_loss: 0.6966\n"
     ]
    }
   ],
   "source": [
    "history = model.fit(train_padded, \n",
    "                    train_data['target'], \n",
    "                    epochs = 100, \n",
    "                    batch_size=256, \n",
    "                    validation_data=(test_padded, test_data['target']), \n",
    "                    callbacks=[early_stopping])"
   ]
  },
  {
   "cell_type": "code",
   "execution_count": 30,
   "id": "6968789a-8266-4f26-8f57-a3f1774e670b",
   "metadata": {},
   "outputs": [
    {
     "name": "stdout",
     "output_type": "stream",
     "text": [
      "dict_keys(['accuracy', 'loss', 'val_accuracy', 'val_loss'])\n"
     ]
    }
   ],
   "source": [
    "model.save_weights('nlp_model.weights.h5')\n",
    "with open('nlp_model_architecture.json', 'w') as f:\n",
    "    f.write(model.to_json())\n",
    "print(history.history.keys())"
   ]
  },
  {
   "cell_type": "code",
   "execution_count": 36,
   "id": "30c21bfb-0c3d-4003-a1f6-2140ebbfd81d",
   "metadata": {},
   "outputs": [
    {
     "data": {
      "image/png": "[encoded data removed]",
      "text/plain": [
       "<Figure size 500x300 with 1 Axes>"
      ]
     },
     "metadata": {},
     "output_type": "display_data"
    }
   ],
   "source": [
    "accuracy = pd.DataFrame()\n",
    "accuracy['loss'] = history.history['loss']\n",
    "accuracy['accuracy'] = history.history['accuracy']\n",
    "accuracy['val_loss'] = history.history['val_loss']\n",
    "accuracy['val_accuracy'] = history.history['val_accuracy']\n",
    "accuracy.to_csv('nlp_accuracy.csv', index = False)\n",
    "\n",
    "fig, ax = plt.subplots(figsize=(5, 3))\n",
    "\n",
    "# Plot the accuracy metrics against the epoch\n",
    "ax.plot(accuracy.index + 1, accuracy['accuracy'], label='Train accuracy', color='blue')\n",
    "ax.plot(accuracy.index + 1, accuracy['loss'], label='Train Loss', color='green')\n",
    "ax.plot(accuracy.index + 1, accuracy['val_accuracy'], label='Validation accuracy', color='orange')\n",
    "ax.plot(accuracy.index + 1, accuracy['val_loss'], label='Validation Loss', color='red')\n",
    "\n",
    "# Set labels and title\n",
    "ax.set_xlabel('Epoch')\n",
    "ax.set_ylabel('Metric Value')\n",
    "ax.set_title('Accuracy Metrics Over Epochs')\n",
    "plt.xticks(range(1, len(accuracy) + 1))\n",
    "# Add legend\n",
    "ax.legend()\n",
    "\n",
    "# Show plot\n",
    "plt.show()"
   ]
  },
  {
   "cell_type": "code",
   "execution_count": 33,
   "id": "d44924ba-2887-42e4-8823-904287e5d80a",
   "metadata": {},
   "outputs": [
    {
     "name": "stdout",
     "output_type": "stream",
     "text": [
      "\u001b[1m48/48\u001b[0m \u001b[32m━━━━━━━━━━━━━━━━━━━━\u001b[0m\u001b[37m\u001b[0m \u001b[1m3s\u001b[0m 52ms/step\n",
      "F1 Score: 0.7534246575342466\n"
     ]
    }
   ],
   "source": [
    "y_pred = model.predict(test_padded)\n",
    "y_pred = (y_pred > 0.5).astype(int)\n",
    "\n",
    "# Calculate F1-score\n",
    "f1 = f1_score(test_data['target'], y_pred)\n",
    "print(f\"F1 Score: {f1}\")"
   ]
  },
  {
   "cell_type": "code",
   "execution_count": 34,
   "id": "bf2b19db-e5e6-4c2f-80a5-ade7a239d9d3",
   "metadata": {},
   "outputs": [
    {
     "name": "stdout",
     "output_type": "stream",
     "text": [
      "\u001b[1m102/102\u001b[0m \u001b[32m━━━━━━━━━━━━━━━━━━━━\u001b[0m\u001b[37m\u001b[0m \u001b[1m5s\u001b[0m 45ms/step\n",
      "         id                                               text  target\n",
      "0         0                 Just happened a terrible car crash       1\n",
      "1         2  Heard about #earthquake is different cities, s...       0\n",
      "2         3  there is a forest fire at spot pond, geese are...       1\n",
      "3         9           Apocalypse lighting. #Spokane #wildfires       0\n",
      "4        11      Typhoon Soudelor kills 28 in China and Taiwan       1\n",
      "...     ...                                                ...     ...\n",
      "3258  10861  EARTHQUAKE SAFETY LOS ANGELES ÛÒ SAFETY FASTE...       0\n",
      "3259  10865  Storm in RI worse than last hurricane. My city...       1\n",
      "3260  10868  Green Line derailment in Chicago http://t.co/U...       1\n",
      "3261  10874  MEG issues Hazardous Weather Outlook (HWO) htt...       1\n",
      "3262  10875  #CityofCalgary has activated its Municipal Eme...       1\n",
      "\n",
      "[3263 rows x 3 columns]\n"
     ]
    }
   ],
   "source": [
    "test_sequences = tokenizer.texts_to_sequences(df_test[\"text\"])\n",
    "test_padded = pad_sequences(test_sequences, maxlen=max_len, padding=\"post\", truncating=\"post\")\n",
    "\n",
    "# Make predictions on the test data\n",
    "predictions = model.predict(test_padded)\n",
    "# Convert probabilities to binary predictions (0 or 1)\n",
    "binary_predictions = (predictions > 0.5).astype(int)\n",
    "\n",
    "# Create a new column 'predicted_target' in the test DataFrame\n",
    "df_test['target'] = binary_predictions\n",
    "\n",
    "# Display the DataFrame with predicted targets\n",
    "print(df_test[['id', 'text', 'target']])"
   ]
  },
  {
   "cell_type": "code",
   "execution_count": 35,
   "id": "ace4accb-c27c-4d37-8183-9e4a466bfc2d",
   "metadata": {},
   "outputs": [
    {
     "name": "stdout",
     "output_type": "stream",
     "text": [
      "<class 'pandas.core.frame.DataFrame'>\n",
      "RangeIndex: 3263 entries, 0 to 3262\n",
      "Data columns (total 2 columns):\n",
      " #   Column  Non-Null Count  Dtype\n",
      "---  ------  --------------  -----\n",
      " 0   id      3263 non-null   int64\n",
      " 1   target  3263 non-null   int32\n",
      "dtypes: int32(1), int64(1)\n",
      "memory usage: 38.4 KB\n",
      "None\n"
     ]
    }
   ],
   "source": [
    "df_final = df_test[['id', 'target']]\n",
    "print(df_final.info())\n",
    "df_final.to_csv('nlp_submission.csv', index = False)"
   ]
  }
 ],
 "metadata": {
  "kernelspec": {
   "display_name": "Python 3 (ipykernel)",
   "language": "python",
   "name": "python3"
  },
  "language_info": {
   "codemirror_mode": {
    "name": "ipython",
    "version": 3
   },
   "file_extension": ".py",
   "mimetype": "text/x-python",
   "name": "python",
   "nbconvert_exporter": "python",
   "pygments_lexer": "ipython3",
   "version": "3.12.2"
  }
 },
 "nbformat": 4,
 "nbformat_minor": 5
}
